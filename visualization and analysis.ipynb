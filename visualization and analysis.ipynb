{
 "cells": [
  {
   "cell_type": "code",
   "execution_count": 5,
   "metadata": {
    "id": "QqkTbqdWkojU"
   },
   "outputs": [],
   "source": [
    "# import necessary packages\n",
    "import pandas as pd\n",
    "import seaborn as sns\n",
    "import matplotlib.pyplot as plt\n",
    "from scipy import stats as st"
   ]
  },
  {
   "cell_type": "code",
   "execution_count": 6,
   "metadata": {
    "id": "69BXBI-JDiwh"
   },
   "outputs": [],
   "source": [
    "# load dataset after exporting the \"all_data\" table from MySQL\n",
    "df = pd.read_csv('all_data.csv', sep = '|')"
   ]
  },
  {
   "cell_type": "code",
   "execution_count": 7,
   "metadata": {
    "colab": {
     "base_uri": "https://localhost:8080/",
     "height": 444
    },
    "id": "Q0imEveu7ZDY",
    "outputId": "d380e782-dab4-4a3a-f976-5858732601df"
   },
   "outputs": [
    {
     "data": {
      "text/html": [
       "<div>\n",
       "<style scoped>\n",
       "    .dataframe tbody tr th:only-of-type {\n",
       "        vertical-align: middle;\n",
       "    }\n",
       "\n",
       "    .dataframe tbody tr th {\n",
       "        vertical-align: top;\n",
       "    }\n",
       "\n",
       "    .dataframe thead th {\n",
       "        text-align: right;\n",
       "    }\n",
       "</style>\n",
       "<table border=\"1\" class=\"dataframe\">\n",
       "  <thead>\n",
       "    <tr style=\"text-align: right;\">\n",
       "      <th></th>\n",
       "      <th>ID</th>\n",
       "      <th>project_name</th>\n",
       "      <th>subcategory_name</th>\n",
       "      <th>category_name</th>\n",
       "      <th>country</th>\n",
       "      <th>currency</th>\n",
       "      <th>launch_date</th>\n",
       "      <th>deadline_date</th>\n",
       "      <th>duration_days</th>\n",
       "      <th>goal</th>\n",
       "      <th>money_raised</th>\n",
       "      <th>no_of_backers</th>\n",
       "      <th>outcome</th>\n",
       "    </tr>\n",
       "  </thead>\n",
       "  <tbody>\n",
       "    <tr>\n",
       "      <th>0</th>\n",
       "      <td>1</td>\n",
       "      <td>Ragdolls</td>\n",
       "      <td>Webseries</td>\n",
       "      <td>Film &amp; Video</td>\n",
       "      <td>US</td>\n",
       "      <td>USD</td>\n",
       "      <td>2013-04-25 00:00:00</td>\n",
       "      <td>2013-05-25 00:00:00</td>\n",
       "      <td>30</td>\n",
       "      <td>15000.00</td>\n",
       "      <td>20.00</td>\n",
       "      <td>3</td>\n",
       "      <td>failed</td>\n",
       "    </tr>\n",
       "    <tr>\n",
       "      <th>1</th>\n",
       "      <td>2</td>\n",
       "      <td>One To Ten</td>\n",
       "      <td>Shorts</td>\n",
       "      <td>Film &amp; Video</td>\n",
       "      <td>GB</td>\n",
       "      <td>GBP</td>\n",
       "      <td>2015-11-16 00:00:00</td>\n",
       "      <td>2015-12-16 00:00:00</td>\n",
       "      <td>30</td>\n",
       "      <td>223.68</td>\n",
       "      <td>413.81</td>\n",
       "      <td>23</td>\n",
       "      <td>successful</td>\n",
       "    </tr>\n",
       "    <tr>\n",
       "      <th>2</th>\n",
       "      <td>3</td>\n",
       "      <td>Future Gun - A short film about kids and advan...</td>\n",
       "      <td>Animation</td>\n",
       "      <td>Film &amp; Video</td>\n",
       "      <td>US</td>\n",
       "      <td>USD</td>\n",
       "      <td>2013-08-28 00:00:00</td>\n",
       "      <td>2013-09-27 00:00:00</td>\n",
       "      <td>30</td>\n",
       "      <td>5000.00</td>\n",
       "      <td>1497.00</td>\n",
       "      <td>28</td>\n",
       "      <td>failed</td>\n",
       "    </tr>\n",
       "    <tr>\n",
       "      <th>3</th>\n",
       "      <td>4</td>\n",
       "      <td>Fourth Wave Apparel—Vintage Fashion for the Mo...</td>\n",
       "      <td>Apparel</td>\n",
       "      <td>Fashion</td>\n",
       "      <td>US</td>\n",
       "      <td>USD</td>\n",
       "      <td>2014-07-22 00:00:00</td>\n",
       "      <td>2014-08-21 00:00:00</td>\n",
       "      <td>30</td>\n",
       "      <td>6000.00</td>\n",
       "      <td>8795.00</td>\n",
       "      <td>218</td>\n",
       "      <td>successful</td>\n",
       "    </tr>\n",
       "    <tr>\n",
       "      <th>4</th>\n",
       "      <td>5</td>\n",
       "      <td>The Rich Lifestyle</td>\n",
       "      <td>Documentary</td>\n",
       "      <td>Film &amp; Video</td>\n",
       "      <td>US</td>\n",
       "      <td>USD</td>\n",
       "      <td>2016-08-24 00:00:00</td>\n",
       "      <td>2016-09-28 00:00:00</td>\n",
       "      <td>35</td>\n",
       "      <td>2000000.00</td>\n",
       "      <td>2.00</td>\n",
       "      <td>2</td>\n",
       "      <td>failed</td>\n",
       "    </tr>\n",
       "  </tbody>\n",
       "</table>\n",
       "</div>"
      ],
      "text/plain": [
       "   ID                                       project_name subcategory_name  \\\n",
       "0   1                                           Ragdolls        Webseries   \n",
       "1   2                                         One To Ten           Shorts   \n",
       "2   3  Future Gun - A short film about kids and advan...        Animation   \n",
       "3   4  Fourth Wave Apparel—Vintage Fashion for the Mo...          Apparel   \n",
       "4   5                                 The Rich Lifestyle      Documentary   \n",
       "\n",
       "  category_name country currency          launch_date        deadline_date  \\\n",
       "0  Film & Video      US      USD  2013-04-25 00:00:00  2013-05-25 00:00:00   \n",
       "1  Film & Video      GB      GBP  2015-11-16 00:00:00  2015-12-16 00:00:00   \n",
       "2  Film & Video      US      USD  2013-08-28 00:00:00  2013-09-27 00:00:00   \n",
       "3       Fashion      US      USD  2014-07-22 00:00:00  2014-08-21 00:00:00   \n",
       "4  Film & Video      US      USD  2016-08-24 00:00:00  2016-09-28 00:00:00   \n",
       "\n",
       "   duration_days        goal  money_raised  no_of_backers     outcome  \n",
       "0             30    15000.00         20.00              3      failed  \n",
       "1             30      223.68        413.81             23  successful  \n",
       "2             30     5000.00       1497.00             28      failed  \n",
       "3             30     6000.00       8795.00            218  successful  \n",
       "4             35  2000000.00          2.00              2      failed  "
      ]
     },
     "execution_count": 7,
     "metadata": {},
     "output_type": "execute_result"
    }
   ],
   "source": [
    "df.head()"
   ]
  },
  {
   "cell_type": "code",
   "execution_count": 8,
   "metadata": {
    "colab": {
     "base_uri": "https://localhost:8080/"
    },
    "id": "7a4EBwrKHZFk",
    "outputId": "c0f0e7a7-c38d-4f8c-a025-d0d3bb8de6ac"
   },
   "outputs": [
    {
     "data": {
      "text/plain": [
       "(15000, 13)"
      ]
     },
     "execution_count": 8,
     "metadata": {},
     "output_type": "execute_result"
    }
   ],
   "source": [
    "df.shape"
   ]
  },
  {
   "cell_type": "code",
   "execution_count": 9,
   "metadata": {
    "colab": {
     "base_uri": "https://localhost:8080/"
    },
    "id": "YqM3tY1YKOnc",
    "outputId": "45cd28ae-9849-4c15-bf30-a7b1ea141c4b"
   },
   "outputs": [
    {
     "name": "stdout",
     "output_type": "stream",
     "text": [
      "<class 'pandas.core.frame.DataFrame'>\n",
      "RangeIndex: 15000 entries, 0 to 14999\n",
      "Data columns (total 13 columns):\n",
      " #   Column            Non-Null Count  Dtype  \n",
      "---  ------            --------------  -----  \n",
      " 0   ID                15000 non-null  int64  \n",
      " 1   project_name      15000 non-null  object \n",
      " 2   subcategory_name  15000 non-null  object \n",
      " 3   category_name     15000 non-null  object \n",
      " 4   country           15000 non-null  object \n",
      " 5   currency          15000 non-null  object \n",
      " 6   launch_date       15000 non-null  object \n",
      " 7   deadline_date     15000 non-null  object \n",
      " 8   duration_days     15000 non-null  int64  \n",
      " 9   goal              15000 non-null  float64\n",
      " 10  money_raised      15000 non-null  float64\n",
      " 11  no_of_backers     15000 non-null  int64  \n",
      " 12  outcome           15000 non-null  object \n",
      "dtypes: float64(2), int64(3), object(8)\n",
      "memory usage: 1.5+ MB\n"
     ]
    }
   ],
   "source": [
    "df.info()"
   ]
  },
  {
   "cell_type": "code",
   "execution_count": 10,
   "metadata": {
    "colab": {
     "base_uri": "https://localhost:8080/",
     "height": 300
    },
    "id": "kD9UdgzCKS2x",
    "outputId": "863bad40-3cf9-4b0b-dfec-ad755e3c9d0c"
   },
   "outputs": [
    {
     "data": {
      "text/html": [
       "<div>\n",
       "<style scoped>\n",
       "    .dataframe tbody tr th:only-of-type {\n",
       "        vertical-align: middle;\n",
       "    }\n",
       "\n",
       "    .dataframe tbody tr th {\n",
       "        vertical-align: top;\n",
       "    }\n",
       "\n",
       "    .dataframe thead th {\n",
       "        text-align: right;\n",
       "    }\n",
       "</style>\n",
       "<table border=\"1\" class=\"dataframe\">\n",
       "  <thead>\n",
       "    <tr style=\"text-align: right;\">\n",
       "      <th></th>\n",
       "      <th>ID</th>\n",
       "      <th>duration_days</th>\n",
       "      <th>goal</th>\n",
       "      <th>money_raised</th>\n",
       "      <th>no_of_backers</th>\n",
       "    </tr>\n",
       "  </thead>\n",
       "  <tbody>\n",
       "    <tr>\n",
       "      <th>count</th>\n",
       "      <td>15000.000000</td>\n",
       "      <td>15000.000000</td>\n",
       "      <td>1.500000e+04</td>\n",
       "      <td>1.500000e+04</td>\n",
       "      <td>15000.000000</td>\n",
       "    </tr>\n",
       "    <tr>\n",
       "      <th>mean</th>\n",
       "      <td>7500.500000</td>\n",
       "      <td>34.307067</td>\n",
       "      <td>7.236114e+04</td>\n",
       "      <td>8.941511e+03</td>\n",
       "      <td>111.779200</td>\n",
       "    </tr>\n",
       "    <tr>\n",
       "      <th>std</th>\n",
       "      <td>4330.271354</td>\n",
       "      <td>12.945824</td>\n",
       "      <td>2.014646e+06</td>\n",
       "      <td>7.864634e+04</td>\n",
       "      <td>1139.530531</td>\n",
       "    </tr>\n",
       "    <tr>\n",
       "      <th>min</th>\n",
       "      <td>1.000000</td>\n",
       "      <td>1.000000</td>\n",
       "      <td>7.500000e-01</td>\n",
       "      <td>0.000000e+00</td>\n",
       "      <td>0.000000</td>\n",
       "    </tr>\n",
       "    <tr>\n",
       "      <th>25%</th>\n",
       "      <td>3750.750000</td>\n",
       "      <td>30.000000</td>\n",
       "      <td>2.000000e+03</td>\n",
       "      <td>3.000000e+01</td>\n",
       "      <td>2.000000</td>\n",
       "    </tr>\n",
       "    <tr>\n",
       "      <th>50%</th>\n",
       "      <td>7500.500000</td>\n",
       "      <td>30.000000</td>\n",
       "      <td>5.245655e+03</td>\n",
       "      <td>6.502250e+02</td>\n",
       "      <td>12.000000</td>\n",
       "    </tr>\n",
       "    <tr>\n",
       "      <th>75%</th>\n",
       "      <td>11250.250000</td>\n",
       "      <td>37.000000</td>\n",
       "      <td>1.532502e+04</td>\n",
       "      <td>4.171932e+03</td>\n",
       "      <td>56.000000</td>\n",
       "    </tr>\n",
       "    <tr>\n",
       "      <th>max</th>\n",
       "      <td>15000.000000</td>\n",
       "      <td>92.000000</td>\n",
       "      <td>1.000000e+08</td>\n",
       "      <td>5.408917e+06</td>\n",
       "      <td>105857.000000</td>\n",
       "    </tr>\n",
       "  </tbody>\n",
       "</table>\n",
       "</div>"
      ],
      "text/plain": [
       "                 ID  duration_days          goal  money_raised  no_of_backers\n",
       "count  15000.000000   15000.000000  1.500000e+04  1.500000e+04   15000.000000\n",
       "mean    7500.500000      34.307067  7.236114e+04  8.941511e+03     111.779200\n",
       "std     4330.271354      12.945824  2.014646e+06  7.864634e+04    1139.530531\n",
       "min        1.000000       1.000000  7.500000e-01  0.000000e+00       0.000000\n",
       "25%     3750.750000      30.000000  2.000000e+03  3.000000e+01       2.000000\n",
       "50%     7500.500000      30.000000  5.245655e+03  6.502250e+02      12.000000\n",
       "75%    11250.250000      37.000000  1.532502e+04  4.171932e+03      56.000000\n",
       "max    15000.000000      92.000000  1.000000e+08  5.408917e+06  105857.000000"
      ]
     },
     "execution_count": 10,
     "metadata": {},
     "output_type": "execute_result"
    }
   ],
   "source": [
    "df.describe()"
   ]
  },
  {
   "cell_type": "code",
   "execution_count": 11,
   "metadata": {
    "colab": {
     "base_uri": "https://localhost:8080/",
     "height": 280
    },
    "id": "qE2B7EvaZks4",
    "outputId": "eafddca3-0d56-4d83-9faf-76ce0fcc00b7"
   },
   "outputs": [
    {
     "data": {
      "text/plain": [
       "<AxesSubplot:xlabel='duration_days', ylabel='Count'>"
      ]
     },
     "execution_count": 11,
     "metadata": {},
     "output_type": "execute_result"
    },
    {
     "data": {
      "image/png": "[encoded data removed]",
      "text/plain": [
       "<Figure size 432x288 with 1 Axes>"
      ]
     },
     "metadata": {
      "needs_background": "light"
     },
     "output_type": "display_data"
    }
   ],
   "source": [
    "sns.histplot(x='duration_days', data=df, bins=30)"
   ]
  },
  {
   "cell_type": "code",
   "execution_count": 12,
   "metadata": {
    "colab": {
     "base_uri": "https://localhost:8080/",
     "height": 297
    },
    "id": "LebeawErcO06",
    "outputId": "6e026d02-fb5b-4e52-b714-27bea5a49027"
   },
   "outputs": [
    {
     "data": {
      "text/plain": [
       "<AxesSubplot:xlabel='money_raised', ylabel='category_name'>"
      ]
     },
     "execution_count": 12,
     "metadata": {},
     "output_type": "execute_result"
    },
    {
     "data": {
      "image/png": "[encoded data removed]",
      "text/plain": [
       "<Figure size 432x288 with 1 Axes>"
      ]
     },
     "metadata": {
      "needs_background": "light"
     },
     "output_type": "display_data"
    }
   ],
   "source": [
    "sns.barplot(y='category_name', x='money_raised', data=df)"
   ]
  },
  {
   "cell_type": "code",
   "execution_count": 13,
   "metadata": {
    "colab": {
     "base_uri": "https://localhost:8080/",
     "height": 347
    },
    "id": "A4H94lb-ciCf",
    "outputId": "a808e3bd-c1aa-47bc-b3f3-a03c25027c20"
   },
   "outputs": [
    {
     "data": {
      "text/plain": [
       "[Text(0.5, 1.0, 'Amount Raised by Top 10 Subcategories of Total Campaigns'),\n",
       " Text(0.5, 0, 'Amount Raised per Campaign (in USD)'),\n",
       " Text(0, 0.5, 'Game Subcategories')]"
      ]
     },
     "execution_count": 13,
     "metadata": {},
     "output_type": "execute_result"
    },
    {
     "data": {
      "image/png": "[encoded data removed]",
      "text/plain": [
       "<Figure size 432x288 with 1 Axes>"
      ]
     },
     "metadata": {
      "needs_background": "light"
     },
     "output_type": "display_data"
    }
   ],
   "source": [
    "sns.barplot(y='subcategory_name', x='money_raised', data=df.loc[df['currency'] == 'USD'],\n",
    "            order=df['subcategory_name'].value_counts().iloc[:10].index\n",
    "           ).set(title='Amount Raised by Top 10 Subcategories of Total Campaigns',\n",
    "                 xlabel='Amount Raised per Campaign (in USD)', ylabel='Game Subcategories')"
   ]
  },
  {
   "cell_type": "code",
   "execution_count": 14,
   "metadata": {
    "colab": {
     "base_uri": "https://localhost:8080/",
     "height": 279
    },
    "id": "c_RITgPpslTy",
    "outputId": "abaec792-558e-41ff-9ca9-b6939ee2bf2f"
   },
   "outputs": [
    {
     "data": {
      "text/plain": [
       "<AxesSubplot:xlabel='Count', ylabel='subcategory_name'>"
      ]
     },
     "execution_count": 14,
     "metadata": {},
     "output_type": "execute_result"
    },
    {
     "data": {
      "image/png": "[encoded data removed]",
      "text/plain": [
       "<Figure size 432x288 with 1 Axes>"
      ]
     },
     "metadata": {
      "needs_background": "light"
     },
     "output_type": "display_data"
    }
   ],
   "source": [
    "sns.histplot(y='subcategory_name', data=df.loc[df['category_name'] == 'Games'])"
   ]
  },
  {
   "cell_type": "code",
   "execution_count": 15,
   "metadata": {
    "colab": {
     "base_uri": "https://localhost:8080/",
     "height": 300
    },
    "id": "vFGjoRa48Gp1",
    "outputId": "3c714e2a-4fc6-4835-fadc-6f3211a7f49f"
   },
   "outputs": [
    {
     "data": {
      "text/html": [
       "<div>\n",
       "<style scoped>\n",
       "    .dataframe tbody tr th:only-of-type {\n",
       "        vertical-align: middle;\n",
       "    }\n",
       "\n",
       "    .dataframe tbody tr th {\n",
       "        vertical-align: top;\n",
       "    }\n",
       "\n",
       "    .dataframe thead th {\n",
       "        text-align: right;\n",
       "    }\n",
       "</style>\n",
       "<table border=\"1\" class=\"dataframe\">\n",
       "  <thead>\n",
       "    <tr style=\"text-align: right;\">\n",
       "      <th></th>\n",
       "      <th>ID</th>\n",
       "      <th>duration_days</th>\n",
       "      <th>goal</th>\n",
       "      <th>money_raised</th>\n",
       "      <th>no_of_backers</th>\n",
       "    </tr>\n",
       "  </thead>\n",
       "  <tbody>\n",
       "    <tr>\n",
       "      <th>count</th>\n",
       "      <td>553.000000</td>\n",
       "      <td>553.000000</td>\n",
       "      <td>553.000000</td>\n",
       "      <td>5.530000e+02</td>\n",
       "      <td>553.000000</td>\n",
       "    </tr>\n",
       "    <tr>\n",
       "      <th>mean</th>\n",
       "      <td>7105.788427</td>\n",
       "      <td>31.301989</td>\n",
       "      <td>14321.153128</td>\n",
       "      <td>3.404647e+04</td>\n",
       "      <td>446.871609</td>\n",
       "    </tr>\n",
       "    <tr>\n",
       "      <th>std</th>\n",
       "      <td>4288.987270</td>\n",
       "      <td>10.103143</td>\n",
       "      <td>23669.214476</td>\n",
       "      <td>2.019518e+05</td>\n",
       "      <td>1991.836356</td>\n",
       "    </tr>\n",
       "    <tr>\n",
       "      <th>min</th>\n",
       "      <td>43.000000</td>\n",
       "      <td>5.000000</td>\n",
       "      <td>10.000000</td>\n",
       "      <td>0.000000e+00</td>\n",
       "      <td>0.000000</td>\n",
       "    </tr>\n",
       "    <tr>\n",
       "      <th>25%</th>\n",
       "      <td>3331.000000</td>\n",
       "      <td>30.000000</td>\n",
       "      <td>2929.500000</td>\n",
       "      <td>9.850000e+02</td>\n",
       "      <td>23.000000</td>\n",
       "    </tr>\n",
       "    <tr>\n",
       "      <th>50%</th>\n",
       "      <td>6828.000000</td>\n",
       "      <td>30.000000</td>\n",
       "      <td>7143.570000</td>\n",
       "      <td>5.209000e+03</td>\n",
       "      <td>91.000000</td>\n",
       "    </tr>\n",
       "    <tr>\n",
       "      <th>75%</th>\n",
       "      <td>10718.000000</td>\n",
       "      <td>33.000000</td>\n",
       "      <td>15800.000000</td>\n",
       "      <td>1.541510e+04</td>\n",
       "      <td>283.000000</td>\n",
       "    </tr>\n",
       "    <tr>\n",
       "      <th>max</th>\n",
       "      <td>14972.000000</td>\n",
       "      <td>90.000000</td>\n",
       "      <td>250000.000000</td>\n",
       "      <td>3.999796e+06</td>\n",
       "      <td>40642.000000</td>\n",
       "    </tr>\n",
       "  </tbody>\n",
       "</table>\n",
       "</div>"
      ],
      "text/plain": [
       "                 ID  duration_days           goal  money_raised  no_of_backers\n",
       "count    553.000000     553.000000     553.000000  5.530000e+02     553.000000\n",
       "mean    7105.788427      31.301989   14321.153128  3.404647e+04     446.871609\n",
       "std     4288.987270      10.103143   23669.214476  2.019518e+05    1991.836356\n",
       "min       43.000000       5.000000      10.000000  0.000000e+00       0.000000\n",
       "25%     3331.000000      30.000000    2929.500000  9.850000e+02      23.000000\n",
       "50%     6828.000000      30.000000    7143.570000  5.209000e+03      91.000000\n",
       "75%    10718.000000      33.000000   15800.000000  1.541510e+04     283.000000\n",
       "max    14972.000000      90.000000  250000.000000  3.999796e+06   40642.000000"
      ]
     },
     "execution_count": 15,
     "metadata": {},
     "output_type": "execute_result"
    }
   ],
   "source": [
    "df.loc[(df['subcategory_name'] == 'Tabletop Games')].describe()"
   ]
  },
  {
   "cell_type": "code",
   "execution_count": 16,
   "metadata": {
    "colab": {
     "base_uri": "https://localhost:8080/",
     "height": 300
    },
    "id": "5l_txLdE7QZh",
    "outputId": "833d7e6f-3123-428a-e366-21c97b2ee871"
   },
   "outputs": [
    {
     "data": {
      "text/html": [
       "<div>\n",
       "<style scoped>\n",
       "    .dataframe tbody tr th:only-of-type {\n",
       "        vertical-align: middle;\n",
       "    }\n",
       "\n",
       "    .dataframe tbody tr th {\n",
       "        vertical-align: top;\n",
       "    }\n",
       "\n",
       "    .dataframe thead th {\n",
       "        text-align: right;\n",
       "    }\n",
       "</style>\n",
       "<table border=\"1\" class=\"dataframe\">\n",
       "  <thead>\n",
       "    <tr style=\"text-align: right;\">\n",
       "      <th></th>\n",
       "      <th>ID</th>\n",
       "      <th>duration_days</th>\n",
       "      <th>goal</th>\n",
       "      <th>money_raised</th>\n",
       "      <th>no_of_backers</th>\n",
       "    </tr>\n",
       "  </thead>\n",
       "  <tbody>\n",
       "    <tr>\n",
       "      <th>count</th>\n",
       "      <td>294.000000</td>\n",
       "      <td>294.000000</td>\n",
       "      <td>294.000000</td>\n",
       "      <td>2.940000e+02</td>\n",
       "      <td>294.000000</td>\n",
       "    </tr>\n",
       "    <tr>\n",
       "      <th>mean</th>\n",
       "      <td>7315.020408</td>\n",
       "      <td>29.503401</td>\n",
       "      <td>10258.851497</td>\n",
       "      <td>6.093329e+04</td>\n",
       "      <td>785.003401</td>\n",
       "    </tr>\n",
       "    <tr>\n",
       "      <th>std</th>\n",
       "      <td>4253.312922</td>\n",
       "      <td>9.434794</td>\n",
       "      <td>19555.084911</td>\n",
       "      <td>2.743197e+05</td>\n",
       "      <td>2687.271815</td>\n",
       "    </tr>\n",
       "    <tr>\n",
       "      <th>min</th>\n",
       "      <td>43.000000</td>\n",
       "      <td>5.000000</td>\n",
       "      <td>10.000000</td>\n",
       "      <td>7.400000e+01</td>\n",
       "      <td>8.000000</td>\n",
       "    </tr>\n",
       "    <tr>\n",
       "      <th>25%</th>\n",
       "      <td>3710.000000</td>\n",
       "      <td>25.250000</td>\n",
       "      <td>1688.167500</td>\n",
       "      <td>5.622250e+03</td>\n",
       "      <td>90.000000</td>\n",
       "    </tr>\n",
       "    <tr>\n",
       "      <th>50%</th>\n",
       "      <td>7026.000000</td>\n",
       "      <td>30.000000</td>\n",
       "      <td>5000.000000</td>\n",
       "      <td>1.185478e+04</td>\n",
       "      <td>221.500000</td>\n",
       "    </tr>\n",
       "    <tr>\n",
       "      <th>75%</th>\n",
       "      <td>10849.000000</td>\n",
       "      <td>31.000000</td>\n",
       "      <td>10000.000000</td>\n",
       "      <td>3.054488e+04</td>\n",
       "      <td>605.500000</td>\n",
       "    </tr>\n",
       "    <tr>\n",
       "      <th>max</th>\n",
       "      <td>14972.000000</td>\n",
       "      <td>60.000000</td>\n",
       "      <td>250000.000000</td>\n",
       "      <td>3.999796e+06</td>\n",
       "      <td>40642.000000</td>\n",
       "    </tr>\n",
       "  </tbody>\n",
       "</table>\n",
       "</div>"
      ],
      "text/plain": [
       "                 ID  duration_days           goal  money_raised  no_of_backers\n",
       "count    294.000000     294.000000     294.000000  2.940000e+02     294.000000\n",
       "mean    7315.020408      29.503401   10258.851497  6.093329e+04     785.003401\n",
       "std     4253.312922       9.434794   19555.084911  2.743197e+05    2687.271815\n",
       "min       43.000000       5.000000      10.000000  7.400000e+01       8.000000\n",
       "25%     3710.000000      25.250000    1688.167500  5.622250e+03      90.000000\n",
       "50%     7026.000000      30.000000    5000.000000  1.185478e+04     221.500000\n",
       "75%    10849.000000      31.000000   10000.000000  3.054488e+04     605.500000\n",
       "max    14972.000000      60.000000  250000.000000  3.999796e+06   40642.000000"
      ]
     },
     "execution_count": 16,
     "metadata": {},
     "output_type": "execute_result"
    }
   ],
   "source": [
    "df.loc[(df['subcategory_name'] == 'Tabletop Games') & (df['outcome'] == 'successful')].describe()"
   ]
  },
  {
   "cell_type": "code",
   "execution_count": 17,
   "metadata": {
    "colab": {
     "base_uri": "https://localhost:8080/",
     "height": 852
    },
    "id": "h3oMqxC4hhEm",
    "outputId": "e5ba857b-6a95-409a-cffd-541ad61cef98"
   },
   "outputs": [
    {
     "data": {
      "text/html": [
       "<div>\n",
       "<style scoped>\n",
       "    .dataframe tbody tr th:only-of-type {\n",
       "        vertical-align: middle;\n",
       "    }\n",
       "\n",
       "    .dataframe tbody tr th {\n",
       "        vertical-align: top;\n",
       "    }\n",
       "\n",
       "    .dataframe thead th {\n",
       "        text-align: right;\n",
       "    }\n",
       "</style>\n",
       "<table border=\"1\" class=\"dataframe\">\n",
       "  <thead>\n",
       "    <tr style=\"text-align: right;\">\n",
       "      <th></th>\n",
       "      <th>ID</th>\n",
       "      <th>project_name</th>\n",
       "      <th>subcategory_name</th>\n",
       "      <th>category_name</th>\n",
       "      <th>country</th>\n",
       "      <th>currency</th>\n",
       "      <th>launch_date</th>\n",
       "      <th>deadline_date</th>\n",
       "      <th>duration_days</th>\n",
       "      <th>goal</th>\n",
       "      <th>money_raised</th>\n",
       "      <th>no_of_backers</th>\n",
       "      <th>outcome</th>\n",
       "    </tr>\n",
       "  </thead>\n",
       "  <tbody>\n",
       "    <tr>\n",
       "      <th>9959</th>\n",
       "      <td>9960</td>\n",
       "      <td>Gloomhaven (Second Printing)</td>\n",
       "      <td>Tabletop Games</td>\n",
       "      <td>Games</td>\n",
       "      <td>US</td>\n",
       "      <td>USD</td>\n",
       "      <td>2017-04-04 00:00:00</td>\n",
       "      <td>2017-05-02 00:00:00</td>\n",
       "      <td>28</td>\n",
       "      <td>100000.00</td>\n",
       "      <td>3999795.77</td>\n",
       "      <td>40642</td>\n",
       "      <td>successful</td>\n",
       "    </tr>\n",
       "    <tr>\n",
       "      <th>7702</th>\n",
       "      <td>7703</td>\n",
       "      <td>Ghostbusters™: The Board Game</td>\n",
       "      <td>Tabletop Games</td>\n",
       "      <td>Games</td>\n",
       "      <td>US</td>\n",
       "      <td>USD</td>\n",
       "      <td>2015-02-10 00:00:00</td>\n",
       "      <td>2015-03-12 00:00:00</td>\n",
       "      <td>30</td>\n",
       "      <td>250000.00</td>\n",
       "      <td>1546269.50</td>\n",
       "      <td>8396</td>\n",
       "      <td>successful</td>\n",
       "    </tr>\n",
       "    <tr>\n",
       "      <th>5071</th>\n",
       "      <td>5072</td>\n",
       "      <td>Shadows of Brimstone</td>\n",
       "      <td>Tabletop Games</td>\n",
       "      <td>Games</td>\n",
       "      <td>US</td>\n",
       "      <td>USD</td>\n",
       "      <td>2013-10-23 00:00:00</td>\n",
       "      <td>2013-11-25 00:00:00</td>\n",
       "      <td>33</td>\n",
       "      <td>30000.00</td>\n",
       "      <td>1341305.03</td>\n",
       "      <td>4727</td>\n",
       "      <td>successful</td>\n",
       "    </tr>\n",
       "    <tr>\n",
       "      <th>2620</th>\n",
       "      <td>2621</td>\n",
       "      <td>Dropfleet Commander</td>\n",
       "      <td>Tabletop Games</td>\n",
       "      <td>Games</td>\n",
       "      <td>GB</td>\n",
       "      <td>GBP</td>\n",
       "      <td>2015-10-30 00:00:00</td>\n",
       "      <td>2015-12-04 00:00:00</td>\n",
       "      <td>35</td>\n",
       "      <td>60558.35</td>\n",
       "      <td>952616.12</td>\n",
       "      <td>3918</td>\n",
       "      <td>successful</td>\n",
       "    </tr>\n",
       "    <tr>\n",
       "      <th>4378</th>\n",
       "      <td>4379</td>\n",
       "      <td>Robot Turtles: The Board Game for Little Progr...</td>\n",
       "      <td>Tabletop Games</td>\n",
       "      <td>Games</td>\n",
       "      <td>US</td>\n",
       "      <td>USD</td>\n",
       "      <td>2013-09-03 00:00:00</td>\n",
       "      <td>2013-09-28 00:00:00</td>\n",
       "      <td>25</td>\n",
       "      <td>25000.00</td>\n",
       "      <td>631230.58</td>\n",
       "      <td>13765</td>\n",
       "      <td>successful</td>\n",
       "    </tr>\n",
       "    <tr>\n",
       "      <th>...</th>\n",
       "      <td>...</td>\n",
       "      <td>...</td>\n",
       "      <td>...</td>\n",
       "      <td>...</td>\n",
       "      <td>...</td>\n",
       "      <td>...</td>\n",
       "      <td>...</td>\n",
       "      <td>...</td>\n",
       "      <td>...</td>\n",
       "      <td>...</td>\n",
       "      <td>...</td>\n",
       "      <td>...</td>\n",
       "      <td>...</td>\n",
       "    </tr>\n",
       "    <tr>\n",
       "      <th>9831</th>\n",
       "      <td>9832</td>\n",
       "      <td>The March of the Warden - A 5e RPG Campaign</td>\n",
       "      <td>Tabletop Games</td>\n",
       "      <td>Games</td>\n",
       "      <td>DE</td>\n",
       "      <td>EUR</td>\n",
       "      <td>2016-09-11 00:00:00</td>\n",
       "      <td>2016-10-11 00:00:00</td>\n",
       "      <td>30</td>\n",
       "      <td>110.02</td>\n",
       "      <td>534.69</td>\n",
       "      <td>33</td>\n",
       "      <td>successful</td>\n",
       "    </tr>\n",
       "    <tr>\n",
       "      <th>4773</th>\n",
       "      <td>4774</td>\n",
       "      <td>25mm scale building maps</td>\n",
       "      <td>Tabletop Games</td>\n",
       "      <td>Games</td>\n",
       "      <td>US</td>\n",
       "      <td>USD</td>\n",
       "      <td>2015-11-22 00:00:00</td>\n",
       "      <td>2015-12-07 00:00:00</td>\n",
       "      <td>15</td>\n",
       "      <td>50.00</td>\n",
       "      <td>201.00</td>\n",
       "      <td>9</td>\n",
       "      <td>successful</td>\n",
       "    </tr>\n",
       "    <tr>\n",
       "      <th>11379</th>\n",
       "      <td>11380</td>\n",
       "      <td>Paper Adventure: A FUN way for the whole famil...</td>\n",
       "      <td>Tabletop Games</td>\n",
       "      <td>Games</td>\n",
       "      <td>US</td>\n",
       "      <td>USD</td>\n",
       "      <td>2017-11-19 00:00:00</td>\n",
       "      <td>2017-11-28 00:00:00</td>\n",
       "      <td>9</td>\n",
       "      <td>25.00</td>\n",
       "      <td>173.00</td>\n",
       "      <td>40</td>\n",
       "      <td>successful</td>\n",
       "    </tr>\n",
       "    <tr>\n",
       "      <th>5853</th>\n",
       "      <td>5854</td>\n",
       "      <td>UK Games Expo 2016 coverage</td>\n",
       "      <td>Tabletop Games</td>\n",
       "      <td>Games</td>\n",
       "      <td>GB</td>\n",
       "      <td>GBP</td>\n",
       "      <td>2016-05-23 00:00:00</td>\n",
       "      <td>2016-05-28 00:00:00</td>\n",
       "      <td>5</td>\n",
       "      <td>72.16</td>\n",
       "      <td>144.32</td>\n",
       "      <td>14</td>\n",
       "      <td>successful</td>\n",
       "    </tr>\n",
       "    <tr>\n",
       "      <th>2832</th>\n",
       "      <td>2833</td>\n",
       "      <td>Blade-Siren - Pathfinder Compatible Hybrid Class</td>\n",
       "      <td>Tabletop Games</td>\n",
       "      <td>Games</td>\n",
       "      <td>US</td>\n",
       "      <td>USD</td>\n",
       "      <td>2017-07-19 00:00:00</td>\n",
       "      <td>2017-07-24 00:00:00</td>\n",
       "      <td>5</td>\n",
       "      <td>10.00</td>\n",
       "      <td>74.00</td>\n",
       "      <td>37</td>\n",
       "      <td>successful</td>\n",
       "    </tr>\n",
       "  </tbody>\n",
       "</table>\n",
       "<p>294 rows × 13 columns</p>\n",
       "</div>"
      ],
      "text/plain": [
       "          ID                                       project_name  \\\n",
       "9959    9960                       Gloomhaven (Second Printing)   \n",
       "7702    7703                      Ghostbusters™: The Board Game   \n",
       "5071    5072                               Shadows of Brimstone   \n",
       "2620    2621                                Dropfleet Commander   \n",
       "4378    4379  Robot Turtles: The Board Game for Little Progr...   \n",
       "...      ...                                                ...   \n",
       "9831    9832        The March of the Warden - A 5e RPG Campaign   \n",
       "4773    4774                           25mm scale building maps   \n",
       "11379  11380  Paper Adventure: A FUN way for the whole famil...   \n",
       "5853    5854                        UK Games Expo 2016 coverage   \n",
       "2832    2833   Blade-Siren - Pathfinder Compatible Hybrid Class   \n",
       "\n",
       "      subcategory_name category_name country currency          launch_date  \\\n",
       "9959    Tabletop Games         Games      US      USD  2017-04-04 00:00:00   \n",
       "7702    Tabletop Games         Games      US      USD  2015-02-10 00:00:00   \n",
       "5071    Tabletop Games         Games      US      USD  2013-10-23 00:00:00   \n",
       "2620    Tabletop Games         Games      GB      GBP  2015-10-30 00:00:00   \n",
       "4378    Tabletop Games         Games      US      USD  2013-09-03 00:00:00   \n",
       "...                ...           ...     ...      ...                  ...   \n",
       "9831    Tabletop Games         Games      DE      EUR  2016-09-11 00:00:00   \n",
       "4773    Tabletop Games         Games      US      USD  2015-11-22 00:00:00   \n",
       "11379   Tabletop Games         Games      US      USD  2017-11-19 00:00:00   \n",
       "5853    Tabletop Games         Games      GB      GBP  2016-05-23 00:00:00   \n",
       "2832    Tabletop Games         Games      US      USD  2017-07-19 00:00:00   \n",
       "\n",
       "             deadline_date  duration_days       goal  money_raised  \\\n",
       "9959   2017-05-02 00:00:00             28  100000.00    3999795.77   \n",
       "7702   2015-03-12 00:00:00             30  250000.00    1546269.50   \n",
       "5071   2013-11-25 00:00:00             33   30000.00    1341305.03   \n",
       "2620   2015-12-04 00:00:00             35   60558.35     952616.12   \n",
       "4378   2013-09-28 00:00:00             25   25000.00     631230.58   \n",
       "...                    ...            ...        ...           ...   \n",
       "9831   2016-10-11 00:00:00             30     110.02        534.69   \n",
       "4773   2015-12-07 00:00:00             15      50.00        201.00   \n",
       "11379  2017-11-28 00:00:00              9      25.00        173.00   \n",
       "5853   2016-05-28 00:00:00              5      72.16        144.32   \n",
       "2832   2017-07-24 00:00:00              5      10.00         74.00   \n",
       "\n",
       "       no_of_backers     outcome  \n",
       "9959           40642  successful  \n",
       "7702            8396  successful  \n",
       "5071            4727  successful  \n",
       "2620            3918  successful  \n",
       "4378           13765  successful  \n",
       "...              ...         ...  \n",
       "9831              33  successful  \n",
       "4773               9  successful  \n",
       "11379             40  successful  \n",
       "5853              14  successful  \n",
       "2832              37  successful  \n",
       "\n",
       "[294 rows x 13 columns]"
      ]
     },
     "execution_count": 17,
     "metadata": {},
     "output_type": "execute_result"
    }
   ],
   "source": [
    "# sort successful board games by money raised\n",
    "df.loc[(df['subcategory_name'] == 'Tabletop Games') & (df['outcome'] == 'successful')].sort_values(by=['money_raised'], ascending=False)"
   ]
  },
  {
   "cell_type": "code",
   "execution_count": 22,
   "metadata": {
    "colab": {
     "base_uri": "https://localhost:8080/"
    },
    "id": "DZ-oIHJpjAv1",
    "outputId": "6620a1bc-626a-4f84-95fc-7296a7456a30"
   },
   "outputs": [
    {
     "name": "stdout",
     "output_type": "stream",
     "text": [
      "group:\t successful \t failed\n",
      "size:\t 4369 \t\t 6080\n",
      "mean:\t 9975.66 \t 101653.0\n",
      "std:\t 39145.38 \t 2575489.81\n",
      "variance ratio: 4328.71\n"
     ]
    }
   ],
   "source": [
    "# test whether if goals for dollars raised is significantly different between campaigns that are successful and unsuccessful\n",
    "group_successful = df.loc[(df['currency'] == 'USD') & (df['outcome'] == 'successful')]\n",
    "group_unsuccessful = df.loc[(df['currency'] == 'USD') & (df['outcome'] == 'failed')]\n",
    "print('group:\\t', 'successful', '\\t', 'failed')\n",
    "print('size:\\t', group_successful['goal'].count(), '\\t\\t', group_unsuccessful['goal'].count())\n",
    "print('mean:\\t', round(group_successful['goal'].mean(), 2), '\\t', round(group_unsuccessful['goal'].mean(), 2))\n",
    "print('std:\\t', round(group_successful['goal'].std(), 2), '\\t', round(group_unsuccessful['goal'].std(), 2))\n",
    "print('variance ratio:', round(group_unsuccessful['goal'].var()/group_successful['goal'].var(), 2))"
   ]
  },
  {
   "cell_type": "code",
   "execution_count": 23,
   "metadata": {
    "colab": {
     "base_uri": "https://localhost:8080/"
    },
    "id": "h8JUazAEnuax",
    "outputId": "e1b9eb41-84b1-4443-aaf0-72a08a41dd13"
   },
   "outputs": [
    {
     "data": {
      "text/plain": [
       "Ttest_indResult(statistic=-2.775135250689853, pvalue=0.005534726341721135)"
      ]
     },
     "execution_count": 23,
     "metadata": {},
     "output_type": "execute_result"
    }
   ],
   "source": [
    "st.ttest_ind(group_successful['goal'], group_unsuccessful['goal'], equal_var = False)"
   ]
  },
  {
   "cell_type": "code",
   "execution_count": 27,
   "metadata": {
    "colab": {
     "base_uri": "https://localhost:8080/"
    },
    "id": "OgaThVLrrski",
    "outputId": "b82b3bcb-0b35-4320-e36e-78133e59bf26"
   },
   "outputs": [
    {
     "name": "stdout",
     "output_type": "stream",
     "text": [
      "group:\t longer \t shorter\n",
      "size:\t 5886 \t\t 5886\n",
      "mean:\t 11812.03 \t 7464.67\n",
      "std:\t 100751.41 \t 68304.33\n",
      "variance ratio: 2.18\n"
     ]
    }
   ],
   "source": [
    "# test whether if longer or shorter campaigns tend to raise more money\n",
    "subset = df.loc[(df['currency'] == 'USD')].sort_values(by=['duration_days'], ascending=False)\n",
    "size = len(subset)\n",
    "group_longer = subset[:size//2]\n",
    "group_shorter = subset[size//2:size]\n",
    "print('group:\\t', 'longer', '\\t', 'shorter')\n",
    "print('size:\\t', group_longer['money_raised'].count(), '\\t\\t', group_shorter['money_raised'].count())\n",
    "print('mean:\\t', round(group_longer['money_raised'].mean(), 2), '\\t', round(group_shorter['money_raised'].mean(), 2))\n",
    "print('std:\\t', round(group_longer['money_raised'].std(), 2), '\\t', round(group_shorter['money_raised'].std(), 2))\n",
    "print('variance ratio:', round(group_longer['money_raised'].var()/group_shorter['money_raised'].var(), 2))"
   ]
  },
  {
   "cell_type": "code",
   "execution_count": 26,
   "metadata": {
    "colab": {
     "base_uri": "https://localhost:8080/"
    },
    "id": "SQ_gGvFO0pNM",
    "outputId": "9a57affb-4f8a-4835-f635-83dd9d5e9269"
   },
   "outputs": [
    {
     "data": {
      "text/plain": [
       "Ttest_indResult(statistic=2.740094085760683, pvalue=0.006151417242013839)"
      ]
     },
     "execution_count": 26,
     "metadata": {},
     "output_type": "execute_result"
    }
   ],
   "source": [
    "st.ttest_ind(group_longer['money_raised'], group_shorter['money_raised'], equal_var = True)"
   ]
  },
  {
   "cell_type": "code",
   "execution_count": 28,
   "metadata": {
    "colab": {
     "base_uri": "https://localhost:8080/"
    },
    "id": "zYRZf7L71ckY",
    "outputId": "55d79d3d-8933-4172-b722-bd5d01fbc6b6"
   },
   "outputs": [
    {
     "name": "stdout",
     "output_type": "stream",
     "text": [
      "group:\t longer \t shorter\n",
      "size:\t 5886 \t\t 5886\n",
      "mean:\t 145.14 \t 98.78\n",
      "std:\t 1641.34 \t 735.87\n",
      "variance ratio: 4.97\n"
     ]
    }
   ],
   "source": [
    "# test whether if longer or shorter campaigns tend to have more backers\n",
    "subset = df.loc[(df['currency'] == 'USD')].sort_values(by=['duration_days'], ascending=False)\n",
    "size = len(subset)\n",
    "group_longer = subset[:size//2]\n",
    "group_shorter = subset[size//2:size]\n",
    "print('group:\\t', 'longer', '\\t', 'shorter')\n",
    "print('size:\\t', group_longer['no_of_backers'].count(), '\\t\\t', group_shorter['no_of_backers'].count())\n",
    "print('mean:\\t', round(group_longer['no_of_backers'].mean(), 2), '\\t', round(group_shorter['no_of_backers'].mean(), 2))\n",
    "print('std:\\t', round(group_longer['no_of_backers'].std(), 2), '\\t', round(group_shorter['no_of_backers'].std(), 2))\n",
    "print('variance ratio:', round(group_longer['no_of_backers'].var()/group_shorter['no_of_backers'].var(), 2))"
   ]
  },
  {
   "cell_type": "code",
   "execution_count": 29,
   "metadata": {
    "colab": {
     "base_uri": "https://localhost:8080/"
    },
    "id": "BXxf-gyB1mhz",
    "outputId": "0f851cc1-ba6b-436c-ebf6-31fcf949c3f9"
   },
   "outputs": [
    {
     "data": {
      "text/plain": [
       "Ttest_indResult(statistic=1.9772390420832568, pvalue=0.04804822345652115)"
      ]
     },
     "execution_count": 29,
     "metadata": {},
     "output_type": "execute_result"
    }
   ],
   "source": [
    "st.ttest_ind(group_longer['no_of_backers'], group_shorter['no_of_backers'], equal_var = False)"
   ]
  },
  {
   "cell_type": "code",
   "execution_count": 31,
   "metadata": {
    "colab": {
     "base_uri": "https://localhost:8080/"
    },
    "id": "d8MBUt959EuG",
    "outputId": "75082028-b8f9-40cf-bbf1-423bed56fbbe"
   },
   "outputs": [
    {
     "name": "stdout",
     "output_type": "stream",
     "text": [
      "group:\t longer \t shorter\n",
      "size:\t 2106 \t\t 2263\n",
      "mean:\t 29233.52 \t 17425.0\n",
      "std:\t 166573.59 \t 109029.46\n",
      "variance ratio: 2.33\n"
     ]
    }
   ],
   "source": [
    "# test whether if longer or shorter successful campaigns tend to be raise more money\n",
    "subset = df.loc[(df['currency'] == 'USD')].sort_values(by=['duration_days'], ascending=False)\n",
    "size = len(subset)\n",
    "group_longer = subset[:size//2]\n",
    "group_shorter = subset[size//2:size]\n",
    "print('group:\\t', 'longer', '\\t', 'shorter')\n",
    "print('size:\\t', group_longer.loc[(df['outcome'] == 'successful')]['money_raised'].count(), '\\t\\t', group_shorter.loc[(df['outcome'] == 'successful')]['money_raised'].count())\n",
    "print('mean:\\t', round(group_longer.loc[(df['outcome'] == 'successful')]['money_raised'].mean(), 2), '\\t', round(group_shorter.loc[(df['outcome'] == 'successful')]['money_raised'].mean(), 2))\n",
    "print('std:\\t', round(group_longer.loc[(df['outcome'] == 'successful')]['money_raised'].std(), 2), '\\t', round(group_shorter.loc[(df['outcome'] == 'successful')]['money_raised'].std(), 2))\n",
    "print('variance ratio:', round(group_longer.loc[(df['outcome'] == 'successful')]['money_raised'].var()/group_shorter.loc[(df['outcome'] == 'successful')]['money_raised'].var(), 2))"
   ]
  },
  {
   "cell_type": "code",
   "execution_count": 32,
   "metadata": {},
   "outputs": [
    {
     "data": {
      "text/plain": [
       "Ttest_indResult(statistic=2.790630959693033, pvalue=0.005283379403697745)"
      ]
     },
     "execution_count": 32,
     "metadata": {},
     "output_type": "execute_result"
    }
   ],
   "source": [
    "st.ttest_ind(group_longer.loc[(df['outcome'] == 'successful')]['money_raised'], group_shorter.loc[(df['outcome'] == 'successful')]['money_raised'], equal_var = True)"
   ]
  },
  {
   "cell_type": "code",
   "execution_count": 33,
   "metadata": {
    "colab": {
     "base_uri": "https://localhost:8080/",
     "height": 300
    },
    "id": "9xYYTACb_hwJ",
    "outputId": "1fbeffac-bb68-4a07-ea49-1bbc453985fa"
   },
   "outputs": [
    {
     "data": {
      "text/html": [
       "<div>\n",
       "<style scoped>\n",
       "    .dataframe tbody tr th:only-of-type {\n",
       "        vertical-align: middle;\n",
       "    }\n",
       "\n",
       "    .dataframe tbody tr th {\n",
       "        vertical-align: top;\n",
       "    }\n",
       "\n",
       "    .dataframe thead th {\n",
       "        text-align: right;\n",
       "    }\n",
       "</style>\n",
       "<table border=\"1\" class=\"dataframe\">\n",
       "  <thead>\n",
       "    <tr style=\"text-align: right;\">\n",
       "      <th></th>\n",
       "      <th>ID</th>\n",
       "      <th>duration_days</th>\n",
       "      <th>goal</th>\n",
       "      <th>money_raised</th>\n",
       "      <th>no_of_backers</th>\n",
       "    </tr>\n",
       "  </thead>\n",
       "  <tbody>\n",
       "    <tr>\n",
       "      <th>count</th>\n",
       "      <td>7.000000</td>\n",
       "      <td>7.000000</td>\n",
       "      <td>7.0</td>\n",
       "      <td>7.000000</td>\n",
       "      <td>7.000000</td>\n",
       "    </tr>\n",
       "    <tr>\n",
       "      <th>mean</th>\n",
       "      <td>4154.714286</td>\n",
       "      <td>32.857143</td>\n",
       "      <td>10000.0</td>\n",
       "      <td>519.428571</td>\n",
       "      <td>17.000000</td>\n",
       "    </tr>\n",
       "    <tr>\n",
       "      <th>std</th>\n",
       "      <td>4849.892051</td>\n",
       "      <td>5.727960</td>\n",
       "      <td>0.0</td>\n",
       "      <td>435.298310</td>\n",
       "      <td>12.832251</td>\n",
       "    </tr>\n",
       "    <tr>\n",
       "      <th>min</th>\n",
       "      <td>961.000000</td>\n",
       "      <td>28.000000</td>\n",
       "      <td>10000.0</td>\n",
       "      <td>89.000000</td>\n",
       "      <td>8.000000</td>\n",
       "    </tr>\n",
       "    <tr>\n",
       "      <th>25%</th>\n",
       "      <td>1816.500000</td>\n",
       "      <td>30.000000</td>\n",
       "      <td>10000.0</td>\n",
       "      <td>259.500000</td>\n",
       "      <td>9.000000</td>\n",
       "    </tr>\n",
       "    <tr>\n",
       "      <th>50%</th>\n",
       "      <td>2616.000000</td>\n",
       "      <td>30.000000</td>\n",
       "      <td>10000.0</td>\n",
       "      <td>461.000000</td>\n",
       "      <td>11.000000</td>\n",
       "    </tr>\n",
       "    <tr>\n",
       "      <th>75%</th>\n",
       "      <td>3476.000000</td>\n",
       "      <td>33.500000</td>\n",
       "      <td>10000.0</td>\n",
       "      <td>582.000000</td>\n",
       "      <td>20.000000</td>\n",
       "    </tr>\n",
       "    <tr>\n",
       "      <th>max</th>\n",
       "      <td>14921.000000</td>\n",
       "      <td>45.000000</td>\n",
       "      <td>10000.0</td>\n",
       "      <td>1403.000000</td>\n",
       "      <td>42.000000</td>\n",
       "    </tr>\n",
       "  </tbody>\n",
       "</table>\n",
       "</div>"
      ],
      "text/plain": [
       "                 ID  duration_days     goal  money_raised  no_of_backers\n",
       "count      7.000000       7.000000      7.0      7.000000       7.000000\n",
       "mean    4154.714286      32.857143  10000.0    519.428571      17.000000\n",
       "std     4849.892051       5.727960      0.0    435.298310      12.832251\n",
       "min      961.000000      28.000000  10000.0     89.000000       8.000000\n",
       "25%     1816.500000      30.000000  10000.0    259.500000       9.000000\n",
       "50%     2616.000000      30.000000  10000.0    461.000000      11.000000\n",
       "75%     3476.000000      33.500000  10000.0    582.000000      20.000000\n",
       "max    14921.000000      45.000000  10000.0   1403.000000      42.000000"
      ]
     },
     "execution_count": 33,
     "metadata": {},
     "output_type": "execute_result"
    }
   ],
   "source": [
    "df.loc[(df['subcategory_name'] == 'Tabletop Games') & (df['outcome'] == 'failed') & (df['goal'] == 10000.00)].describe()"
   ]
  },
  {
   "cell_type": "code",
   "execution_count": 34,
   "metadata": {
    "colab": {
     "base_uri": "https://localhost:8080/",
     "height": 300
    },
    "id": "eP7d3eIk-3BJ",
    "outputId": "ead9931a-f17d-4ad8-b1ba-09cded1b31e5"
   },
   "outputs": [
    {
     "data": {
      "text/html": [
       "<div>\n",
       "<style scoped>\n",
       "    .dataframe tbody tr th:only-of-type {\n",
       "        vertical-align: middle;\n",
       "    }\n",
       "\n",
       "    .dataframe tbody tr th {\n",
       "        vertical-align: top;\n",
       "    }\n",
       "\n",
       "    .dataframe thead th {\n",
       "        text-align: right;\n",
       "    }\n",
       "</style>\n",
       "<table border=\"1\" class=\"dataframe\">\n",
       "  <thead>\n",
       "    <tr style=\"text-align: right;\">\n",
       "      <th></th>\n",
       "      <th>ID</th>\n",
       "      <th>duration_days</th>\n",
       "      <th>goal</th>\n",
       "      <th>money_raised</th>\n",
       "      <th>no_of_backers</th>\n",
       "    </tr>\n",
       "  </thead>\n",
       "  <tbody>\n",
       "    <tr>\n",
       "      <th>count</th>\n",
       "      <td>20.000000</td>\n",
       "      <td>20.000000</td>\n",
       "      <td>20.0</td>\n",
       "      <td>20.000000</td>\n",
       "      <td>20.000000</td>\n",
       "    </tr>\n",
       "    <tr>\n",
       "      <th>mean</th>\n",
       "      <td>7310.950000</td>\n",
       "      <td>27.500000</td>\n",
       "      <td>10000.0</td>\n",
       "      <td>34079.779000</td>\n",
       "      <td>896.750000</td>\n",
       "    </tr>\n",
       "    <tr>\n",
       "      <th>std</th>\n",
       "      <td>4033.191064</td>\n",
       "      <td>7.963734</td>\n",
       "      <td>0.0</td>\n",
       "      <td>30588.986503</td>\n",
       "      <td>1203.060915</td>\n",
       "    </tr>\n",
       "    <tr>\n",
       "      <th>min</th>\n",
       "      <td>537.000000</td>\n",
       "      <td>7.000000</td>\n",
       "      <td>10000.0</td>\n",
       "      <td>10215.000000</td>\n",
       "      <td>44.000000</td>\n",
       "    </tr>\n",
       "    <tr>\n",
       "      <th>25%</th>\n",
       "      <td>5096.500000</td>\n",
       "      <td>28.500000</td>\n",
       "      <td>10000.0</td>\n",
       "      <td>11687.500000</td>\n",
       "      <td>249.000000</td>\n",
       "    </tr>\n",
       "    <tr>\n",
       "      <th>50%</th>\n",
       "      <td>6724.000000</td>\n",
       "      <td>30.000000</td>\n",
       "      <td>10000.0</td>\n",
       "      <td>21308.345000</td>\n",
       "      <td>508.500000</td>\n",
       "    </tr>\n",
       "    <tr>\n",
       "      <th>75%</th>\n",
       "      <td>9713.250000</td>\n",
       "      <td>30.000000</td>\n",
       "      <td>10000.0</td>\n",
       "      <td>43140.750000</td>\n",
       "      <td>1000.000000</td>\n",
       "    </tr>\n",
       "    <tr>\n",
       "      <th>max</th>\n",
       "      <td>14320.000000</td>\n",
       "      <td>41.000000</td>\n",
       "      <td>10000.0</td>\n",
       "      <td>115685.950000</td>\n",
       "      <td>5119.000000</td>\n",
       "    </tr>\n",
       "  </tbody>\n",
       "</table>\n",
       "</div>"
      ],
      "text/plain": [
       "                 ID  duration_days     goal   money_raised  no_of_backers\n",
       "count     20.000000      20.000000     20.0      20.000000      20.000000\n",
       "mean    7310.950000      27.500000  10000.0   34079.779000     896.750000\n",
       "std     4033.191064       7.963734      0.0   30588.986503    1203.060915\n",
       "min      537.000000       7.000000  10000.0   10215.000000      44.000000\n",
       "25%     5096.500000      28.500000  10000.0   11687.500000     249.000000\n",
       "50%     6724.000000      30.000000  10000.0   21308.345000     508.500000\n",
       "75%     9713.250000      30.000000  10000.0   43140.750000    1000.000000\n",
       "max    14320.000000      41.000000  10000.0  115685.950000    5119.000000"
      ]
     },
     "execution_count": 34,
     "metadata": {},
     "output_type": "execute_result"
    }
   ],
   "source": [
    "df.loc[(df['subcategory_name'] == 'Tabletop Games') & (df['outcome'] == 'successful') & (df['goal'] == 10000.00)].describe()"
   ]
  },
  {
   "cell_type": "code",
   "execution_count": 35,
   "metadata": {
    "colab": {
     "base_uri": "https://localhost:8080/",
     "height": 347
    },
    "id": "TFKucTLAAx5W",
    "outputId": "79e0e8b6-5bdd-4125-f489-ebd5c17c1c35"
   },
   "outputs": [
    {
     "data": {
      "text/plain": [
       "[Text(0.5, 1.0, 'Goals of Board Game Campaigns by Outcomes'),\n",
       " Text(0.5, 0, 'Outcomes'),\n",
       " Text(0, 0.5, 'Goals (in USD)')]"
      ]
     },
     "execution_count": 35,
     "metadata": {},
     "output_type": "execute_result"
    },
    {
     "data": {
      "image/png": "[encoded data removed]",
      "text/plain": [
       "<Figure size 432x288 with 1 Axes>"
      ]
     },
     "metadata": {
      "needs_background": "light"
     },
     "output_type": "display_data"
    }
   ],
   "source": [
    "sns.barplot(x='outcome', y='goal',\n",
    "            data=df.loc[(df['subcategory_name'] == 'Tabletop Games') & (df['currency'] == 'USD')]\n",
    "           ).set(title='Goals of Board Game Campaigns by Outcomes',\n",
    "                 xlabel='Outcomes', ylabel='Goals (in USD)')"
   ]
  },
  {
   "cell_type": "code",
   "execution_count": 36,
   "metadata": {
    "colab": {
     "base_uri": "https://localhost:8080/",
     "height": 347
    },
    "id": "n-GWL0NnBZH9",
    "outputId": "0af97eca-ab5b-4a2f-8683-233881873332"
   },
   "outputs": [
    {
     "data": {
      "text/plain": [
       "[Text(0.5, 1.0, 'Amount Raised per Board Game Campaign Campaigns by Outcomes'),\n",
       " Text(0.5, 0, 'Outcomes'),\n",
       " Text(0, 0.5, 'Amount Raised (in USD)')]"
      ]
     },
     "execution_count": 36,
     "metadata": {},
     "output_type": "execute_result"
    },
    {
     "data": {
      "image/png": "[encoded data removed]",
      "text/plain": [
       "<Figure size 432x288 with 1 Axes>"
      ]
     },
     "metadata": {
      "needs_background": "light"
     },
     "output_type": "display_data"
    }
   ],
   "source": [
    "sns.barplot(x='outcome', y='money_raised',\n",
    "            data=df.loc[(df['subcategory_name'] == 'Tabletop Games') & (df['currency'] == 'USD')]\n",
    "           ).set(title='Amount Raised per Board Game Campaign Campaigns by Outcomes',\n",
    "                 xlabel='Outcomes', ylabel='Amount Raised (in USD)')"
   ]
  },
  {
   "cell_type": "code",
   "execution_count": 37,
   "metadata": {
    "colab": {
     "base_uri": "https://localhost:8080/",
     "height": 347
    },
    "id": "SxVnDEKaCBo8",
    "outputId": "5668dc9a-44ad-42ce-9c9f-4e0b7f14fa20"
   },
   "outputs": [
    {
     "data": {
      "text/plain": [
       "[Text(0.5, 1.0, 'Backers of Board Game Campaigns by Outcomes'),\n",
       " Text(0.5, 0, 'Outcomes'),\n",
       " Text(0, 0.5, 'Number of backers')]"
      ]
     },
     "execution_count": 37,
     "metadata": {},
     "output_type": "execute_result"
    },
    {
     "data": {
      "image/png": "[encoded data removed]",
      "text/plain": [
       "<Figure size 432x288 with 1 Axes>"
      ]
     },
     "metadata": {
      "needs_background": "light"
     },
     "output_type": "display_data"
    }
   ],
   "source": [
    "sns.barplot(x='outcome', y='no_of_backers',\n",
    "            data=df.loc[(df['subcategory_name'] == 'Tabletop Games') & (df['currency'] == 'USD')]\n",
    "           ).set(title='Backers of Board Game Campaigns by Outcomes',\n",
    "                 xlabel='Outcomes', ylabel='Number of backers')"
   ]
  },
  {
   "cell_type": "code",
   "execution_count": 38,
   "metadata": {
    "colab": {
     "base_uri": "https://localhost:8080/",
     "height": 347
    },
    "id": "gPUIlwifox4P",
    "outputId": "2dee218e-d312-4dd2-bb80-15a0cfd91686"
   },
   "outputs": [
    {
     "data": {
      "text/plain": [
       "[Text(0.5, 1.0, 'Average Pledge per Backer of Board Game Campaigns by Outcomes'),\n",
       " Text(0.5, 0, 'Outcomes'),\n",
       " Text(0, 0.5, 'Average Pledge per Backer (in USD)')]"
      ]
     },
     "execution_count": 38,
     "metadata": {},
     "output_type": "execute_result"
    },
    {
     "data": {
      "image/png": "[encoded data removed]",
      "text/plain": [
       "<Figure size 432x288 with 1 Axes>"
      ]
     },
     "metadata": {
      "needs_background": "light"
     },
     "output_type": "display_data"
    }
   ],
   "source": [
    "df['avg_pledge_per_backer'] = df['money_raised']/df['no_of_backers']\n",
    "sns.barplot(x='outcome', y='avg_pledge_per_backer',\n",
    "            data=df.loc[(df['subcategory_name'] == 'Tabletop Games') & (df['currency'] == 'USD')]\n",
    "           ).set(title='Average Pledge per Backer of Board Game Campaigns by Outcomes',\n",
    "                 xlabel='Outcomes', ylabel='Average Pledge per Backer (in USD)')"
   ]
  }
 ],
 "metadata": {
  "colab": {
   "provenance": []
  },
  "kernelspec": {
   "display_name": "Python 3",
   "language": "python",
   "name": "python3"
  },
  "language_info": {
   "codemirror_mode": {
    "name": "ipython",
    "version": 3
   },
   "file_extension": ".py",
   "mimetype": "text/x-python",
   "name": "python",
   "nbconvert_exporter": "python",
   "pygments_lexer": "ipython3",
   "version": "3.8.5"
  }
 },
 "nbformat": 4,
 "nbformat_minor": 1
}
